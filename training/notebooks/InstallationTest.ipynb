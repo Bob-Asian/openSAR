{
 "cells": [
  {
   "cell_type": "markdown",
   "metadata": {},
   "source": [
    "# INSTALLATION TEST"
   ]
  },
  {
   "cell_type": "code",
   "execution_count": 11,
   "metadata": {},
   "outputs": [],
   "source": [
    "# CHANGE TO THE PATH ON YOUR SYSTEM WHERE THE **test data** folder resides\n",
    "dataroot=\"/Users/josefk/github/public/openSAR/training/data/test\""
   ]
  },
  {
   "cell_type": "markdown",
   "metadata": {},
   "source": [
    "See if you have a correct installation by selecting\n",
    "\n",
    "    > Kernel > Change Kernel > Python[conda env:ebd]\n",
    "    (other Kernels might be ok too)\n",
    "    \n",
    "    > Cell > Run All"
   ]
  },
  {
   "cell_type": "markdown",
   "metadata": {},
   "source": [
    "## Python package import"
   ]
  },
  {
   "cell_type": "code",
   "execution_count": 5,
   "metadata": {},
   "outputs": [
    {
     "data": {
      "text/html": [
       "\n",
       "    <div class=\"bk-root\">\n",
       "        <a href=\"https://bokeh.pydata.org\" target=\"_blank\" class=\"bk-logo bk-logo-small bk-logo-notebook\"></a>\n",
       "        <span id=\"7c9236df-7a49-485b-905f-2a5e37a44355\">Loading BokehJS ...</span>\n",
       "    </div>"
      ]
     },
     "metadata": {},
     "output_type": "display_data"
    },
    {
     "data": {
      "application/javascript": [
       "\n",
       "(function(root) {\n",
       "  function now() {\n",
       "    return new Date();\n",
       "  }\n",
       "\n",
       "  var force = true;\n",
       "\n",
       "  if (typeof (root._bokeh_onload_callbacks) === \"undefined\" || force === true) {\n",
       "    root._bokeh_onload_callbacks = [];\n",
       "    root._bokeh_is_loading = undefined;\n",
       "  }\n",
       "\n",
       "  var JS_MIME_TYPE = 'application/javascript';\n",
       "  var HTML_MIME_TYPE = 'text/html';\n",
       "  var EXEC_MIME_TYPE = 'application/vnd.bokehjs_exec.v0+json';\n",
       "  var CLASS_NAME = 'output_bokeh rendered_html';\n",
       "\n",
       "  /**\n",
       "   * Render data to the DOM node\n",
       "   */\n",
       "  function render(props, node) {\n",
       "    var script = document.createElement(\"script\");\n",
       "    node.appendChild(script);\n",
       "  }\n",
       "\n",
       "  /**\n",
       "   * Handle when an output is cleared or removed\n",
       "   */\n",
       "  function handleClearOutput(event, handle) {\n",
       "    var cell = handle.cell;\n",
       "\n",
       "    var id = cell.output_area._bokeh_element_id;\n",
       "    var server_id = cell.output_area._bokeh_server_id;\n",
       "    // Clean up Bokeh references\n",
       "    if (id !== undefined) {\n",
       "      Bokeh.index[id].model.document.clear();\n",
       "      delete Bokeh.index[id];\n",
       "    }\n",
       "\n",
       "    if (server_id !== undefined) {\n",
       "      // Clean up Bokeh references\n",
       "      var cmd = \"from bokeh.io.state import curstate; print(curstate().uuid_to_server['\" + server_id + \"'].get_sessions()[0].document.roots[0]._id)\";\n",
       "      cell.notebook.kernel.execute(cmd, {\n",
       "        iopub: {\n",
       "          output: function(msg) {\n",
       "            var element_id = msg.content.text.trim();\n",
       "            Bokeh.index[element_id].model.document.clear();\n",
       "            delete Bokeh.index[element_id];\n",
       "          }\n",
       "        }\n",
       "      });\n",
       "      // Destroy server and session\n",
       "      var cmd = \"import bokeh.io.notebook as ion; ion.destroy_server('\" + server_id + \"')\";\n",
       "      cell.notebook.kernel.execute(cmd);\n",
       "    }\n",
       "  }\n",
       "\n",
       "  /**\n",
       "   * Handle when a new output is added\n",
       "   */\n",
       "  function handleAddOutput(event, handle) {\n",
       "    var output_area = handle.output_area;\n",
       "    var output = handle.output;\n",
       "\n",
       "    // limit handleAddOutput to display_data with EXEC_MIME_TYPE content only\n",
       "    if ((output.output_type != \"display_data\") || (!output.data.hasOwnProperty(EXEC_MIME_TYPE))) {\n",
       "      return\n",
       "    }\n",
       "\n",
       "    var toinsert = output_area.element.find(\".\" + CLASS_NAME.split(' ')[0]);\n",
       "\n",
       "    if (output.metadata[EXEC_MIME_TYPE][\"id\"] !== undefined) {\n",
       "      toinsert[0].firstChild.textContent = output.data[JS_MIME_TYPE];\n",
       "      // store reference to embed id on output_area\n",
       "      output_area._bokeh_element_id = output.metadata[EXEC_MIME_TYPE][\"id\"];\n",
       "    }\n",
       "    if (output.metadata[EXEC_MIME_TYPE][\"server_id\"] !== undefined) {\n",
       "      var bk_div = document.createElement(\"div\");\n",
       "      bk_div.innerHTML = output.data[HTML_MIME_TYPE];\n",
       "      var script_attrs = bk_div.children[0].attributes;\n",
       "      for (var i = 0; i < script_attrs.length; i++) {\n",
       "        toinsert[0].firstChild.setAttribute(script_attrs[i].name, script_attrs[i].value);\n",
       "      }\n",
       "      // store reference to server id on output_area\n",
       "      output_area._bokeh_server_id = output.metadata[EXEC_MIME_TYPE][\"server_id\"];\n",
       "    }\n",
       "  }\n",
       "\n",
       "  function register_renderer(events, OutputArea) {\n",
       "\n",
       "    function append_mime(data, metadata, element) {\n",
       "      // create a DOM node to render to\n",
       "      var toinsert = this.create_output_subarea(\n",
       "        metadata,\n",
       "        CLASS_NAME,\n",
       "        EXEC_MIME_TYPE\n",
       "      );\n",
       "      this.keyboard_manager.register_events(toinsert);\n",
       "      // Render to node\n",
       "      var props = {data: data, metadata: metadata[EXEC_MIME_TYPE]};\n",
       "      render(props, toinsert[0]);\n",
       "      element.append(toinsert);\n",
       "      return toinsert\n",
       "    }\n",
       "\n",
       "    /* Handle when an output is cleared or removed */\n",
       "    events.on('clear_output.CodeCell', handleClearOutput);\n",
       "    events.on('delete.Cell', handleClearOutput);\n",
       "\n",
       "    /* Handle when a new output is added */\n",
       "    events.on('output_added.OutputArea', handleAddOutput);\n",
       "\n",
       "    /**\n",
       "     * Register the mime type and append_mime function with output_area\n",
       "     */\n",
       "    OutputArea.prototype.register_mime_type(EXEC_MIME_TYPE, append_mime, {\n",
       "      /* Is output safe? */\n",
       "      safe: true,\n",
       "      /* Index of renderer in `output_area.display_order` */\n",
       "      index: 0\n",
       "    });\n",
       "  }\n",
       "\n",
       "  // register the mime type if in Jupyter Notebook environment and previously unregistered\n",
       "  if (root.Jupyter !== undefined) {\n",
       "    var events = require('base/js/events');\n",
       "    var OutputArea = require('notebook/js/outputarea').OutputArea;\n",
       "\n",
       "    if (OutputArea.prototype.mime_types().indexOf(EXEC_MIME_TYPE) == -1) {\n",
       "      register_renderer(events, OutputArea);\n",
       "    }\n",
       "  }\n",
       "\n",
       "  \n",
       "  if (typeof (root._bokeh_timeout) === \"undefined\" || force === true) {\n",
       "    root._bokeh_timeout = Date.now() + 5000;\n",
       "    root._bokeh_failed_load = false;\n",
       "  }\n",
       "\n",
       "  var NB_LOAD_WARNING = {'data': {'text/html':\n",
       "     \"<div style='background-color: #fdd'>\\n\"+\n",
       "     \"<p>\\n\"+\n",
       "     \"BokehJS does not appear to have successfully loaded. If loading BokehJS from CDN, this \\n\"+\n",
       "     \"may be due to a slow or bad network connection. Possible fixes:\\n\"+\n",
       "     \"</p>\\n\"+\n",
       "     \"<ul>\\n\"+\n",
       "     \"<li>re-rerun `output_notebook()` to attempt to load from CDN again, or</li>\\n\"+\n",
       "     \"<li>use INLINE resources instead, as so:</li>\\n\"+\n",
       "     \"</ul>\\n\"+\n",
       "     \"<code>\\n\"+\n",
       "     \"from bokeh.resources import INLINE\\n\"+\n",
       "     \"output_notebook(resources=INLINE)\\n\"+\n",
       "     \"</code>\\n\"+\n",
       "     \"</div>\"}};\n",
       "\n",
       "  function display_loaded() {\n",
       "    var el = document.getElementById(\"7c9236df-7a49-485b-905f-2a5e37a44355\");\n",
       "    if (el != null) {\n",
       "      el.textContent = \"BokehJS is loading...\";\n",
       "    }\n",
       "    if (root.Bokeh !== undefined) {\n",
       "      if (el != null) {\n",
       "        el.textContent = \"BokehJS \" + root.Bokeh.version + \" successfully loaded.\";\n",
       "      }\n",
       "    } else if (Date.now() < root._bokeh_timeout) {\n",
       "      setTimeout(display_loaded, 100)\n",
       "    }\n",
       "  }\n",
       "\n",
       "\n",
       "  function run_callbacks() {\n",
       "    try {\n",
       "      root._bokeh_onload_callbacks.forEach(function(callback) { callback() });\n",
       "    }\n",
       "    finally {\n",
       "      delete root._bokeh_onload_callbacks\n",
       "    }\n",
       "    console.info(\"Bokeh: all callbacks have finished\");\n",
       "  }\n",
       "\n",
       "  function load_libs(js_urls, callback) {\n",
       "    root._bokeh_onload_callbacks.push(callback);\n",
       "    if (root._bokeh_is_loading > 0) {\n",
       "      console.log(\"Bokeh: BokehJS is being loaded, scheduling callback at\", now());\n",
       "      return null;\n",
       "    }\n",
       "    if (js_urls == null || js_urls.length === 0) {\n",
       "      run_callbacks();\n",
       "      return null;\n",
       "    }\n",
       "    console.log(\"Bokeh: BokehJS not loaded, scheduling load and callback at\", now());\n",
       "    root._bokeh_is_loading = js_urls.length;\n",
       "    for (var i = 0; i < js_urls.length; i++) {\n",
       "      var url = js_urls[i];\n",
       "      var s = document.createElement('script');\n",
       "      s.src = url;\n",
       "      s.async = false;\n",
       "      s.onreadystatechange = s.onload = function() {\n",
       "        root._bokeh_is_loading--;\n",
       "        if (root._bokeh_is_loading === 0) {\n",
       "          console.log(\"Bokeh: all BokehJS libraries loaded\");\n",
       "          run_callbacks()\n",
       "        }\n",
       "      };\n",
       "      s.onerror = function() {\n",
       "        console.warn(\"failed to load library \" + url);\n",
       "      };\n",
       "      console.log(\"Bokeh: injecting script tag for BokehJS library: \", url);\n",
       "      document.getElementsByTagName(\"head\")[0].appendChild(s);\n",
       "    }\n",
       "  };var element = document.getElementById(\"7c9236df-7a49-485b-905f-2a5e37a44355\");\n",
       "  if (element == null) {\n",
       "    console.log(\"Bokeh: ERROR: autoload.js configured with elementid '7c9236df-7a49-485b-905f-2a5e37a44355' but no matching script tag was found. \")\n",
       "    return false;\n",
       "  }\n",
       "\n",
       "  var js_urls = [\"https://cdn.pydata.org/bokeh/release/bokeh-0.12.13.min.js\", \"https://cdn.pydata.org/bokeh/release/bokeh-widgets-0.12.13.min.js\", \"https://cdn.pydata.org/bokeh/release/bokeh-tables-0.12.13.min.js\", \"https://cdn.pydata.org/bokeh/release/bokeh-gl-0.12.13.min.js\"];\n",
       "\n",
       "  var inline_js = [\n",
       "    function(Bokeh) {\n",
       "      Bokeh.set_log_level(\"info\");\n",
       "    },\n",
       "    \n",
       "    function(Bokeh) {\n",
       "      \n",
       "    },\n",
       "    function(Bokeh) {\n",
       "      console.log(\"Bokeh: injecting CSS: https://cdn.pydata.org/bokeh/release/bokeh-0.12.13.min.css\");\n",
       "      Bokeh.embed.inject_css(\"https://cdn.pydata.org/bokeh/release/bokeh-0.12.13.min.css\");\n",
       "      console.log(\"Bokeh: injecting CSS: https://cdn.pydata.org/bokeh/release/bokeh-widgets-0.12.13.min.css\");\n",
       "      Bokeh.embed.inject_css(\"https://cdn.pydata.org/bokeh/release/bokeh-widgets-0.12.13.min.css\");\n",
       "      console.log(\"Bokeh: injecting CSS: https://cdn.pydata.org/bokeh/release/bokeh-tables-0.12.13.min.css\");\n",
       "      Bokeh.embed.inject_css(\"https://cdn.pydata.org/bokeh/release/bokeh-tables-0.12.13.min.css\");\n",
       "    }\n",
       "  ];\n",
       "\n",
       "  function run_inline_js() {\n",
       "    \n",
       "    if ((root.Bokeh !== undefined) || (force === true)) {\n",
       "      for (var i = 0; i < inline_js.length; i++) {\n",
       "        inline_js[i].call(root, root.Bokeh);\n",
       "      }if (force === true) {\n",
       "        display_loaded();\n",
       "      }} else if (Date.now() < root._bokeh_timeout) {\n",
       "      setTimeout(run_inline_js, 100);\n",
       "    } else if (!root._bokeh_failed_load) {\n",
       "      console.log(\"Bokeh: BokehJS failed to load within specified timeout.\");\n",
       "      root._bokeh_failed_load = true;\n",
       "    } else if (force !== true) {\n",
       "      var cell = $(document.getElementById(\"7c9236df-7a49-485b-905f-2a5e37a44355\")).parents('.cell').data().cell;\n",
       "      cell.output_area.append_execute_result(NB_LOAD_WARNING)\n",
       "    }\n",
       "\n",
       "  }\n",
       "\n",
       "  if (root._bokeh_is_loading === 0) {\n",
       "    console.log(\"Bokeh: BokehJS loaded, going straight to plotting\");\n",
       "    run_inline_js();\n",
       "  } else {\n",
       "    load_libs(js_urls, function() {\n",
       "      console.log(\"Bokeh: BokehJS plotting callback run at\", now());\n",
       "      run_inline_js();\n",
       "    });\n",
       "  }\n",
       "}(window));"
      ],
      "application/vnd.bokehjs_load.v0+json": "\n(function(root) {\n  function now() {\n    return new Date();\n  }\n\n  var force = true;\n\n  if (typeof (root._bokeh_onload_callbacks) === \"undefined\" || force === true) {\n    root._bokeh_onload_callbacks = [];\n    root._bokeh_is_loading = undefined;\n  }\n\n  \n\n  \n  if (typeof (root._bokeh_timeout) === \"undefined\" || force === true) {\n    root._bokeh_timeout = Date.now() + 5000;\n    root._bokeh_failed_load = false;\n  }\n\n  var NB_LOAD_WARNING = {'data': {'text/html':\n     \"<div style='background-color: #fdd'>\\n\"+\n     \"<p>\\n\"+\n     \"BokehJS does not appear to have successfully loaded. If loading BokehJS from CDN, this \\n\"+\n     \"may be due to a slow or bad network connection. Possible fixes:\\n\"+\n     \"</p>\\n\"+\n     \"<ul>\\n\"+\n     \"<li>re-rerun `output_notebook()` to attempt to load from CDN again, or</li>\\n\"+\n     \"<li>use INLINE resources instead, as so:</li>\\n\"+\n     \"</ul>\\n\"+\n     \"<code>\\n\"+\n     \"from bokeh.resources import INLINE\\n\"+\n     \"output_notebook(resources=INLINE)\\n\"+\n     \"</code>\\n\"+\n     \"</div>\"}};\n\n  function display_loaded() {\n    var el = document.getElementById(\"7c9236df-7a49-485b-905f-2a5e37a44355\");\n    if (el != null) {\n      el.textContent = \"BokehJS is loading...\";\n    }\n    if (root.Bokeh !== undefined) {\n      if (el != null) {\n        el.textContent = \"BokehJS \" + root.Bokeh.version + \" successfully loaded.\";\n      }\n    } else if (Date.now() < root._bokeh_timeout) {\n      setTimeout(display_loaded, 100)\n    }\n  }\n\n\n  function run_callbacks() {\n    try {\n      root._bokeh_onload_callbacks.forEach(function(callback) { callback() });\n    }\n    finally {\n      delete root._bokeh_onload_callbacks\n    }\n    console.info(\"Bokeh: all callbacks have finished\");\n  }\n\n  function load_libs(js_urls, callback) {\n    root._bokeh_onload_callbacks.push(callback);\n    if (root._bokeh_is_loading > 0) {\n      console.log(\"Bokeh: BokehJS is being loaded, scheduling callback at\", now());\n      return null;\n    }\n    if (js_urls == null || js_urls.length === 0) {\n      run_callbacks();\n      return null;\n    }\n    console.log(\"Bokeh: BokehJS not loaded, scheduling load and callback at\", now());\n    root._bokeh_is_loading = js_urls.length;\n    for (var i = 0; i < js_urls.length; i++) {\n      var url = js_urls[i];\n      var s = document.createElement('script');\n      s.src = url;\n      s.async = false;\n      s.onreadystatechange = s.onload = function() {\n        root._bokeh_is_loading--;\n        if (root._bokeh_is_loading === 0) {\n          console.log(\"Bokeh: all BokehJS libraries loaded\");\n          run_callbacks()\n        }\n      };\n      s.onerror = function() {\n        console.warn(\"failed to load library \" + url);\n      };\n      console.log(\"Bokeh: injecting script tag for BokehJS library: \", url);\n      document.getElementsByTagName(\"head\")[0].appendChild(s);\n    }\n  };var element = document.getElementById(\"7c9236df-7a49-485b-905f-2a5e37a44355\");\n  if (element == null) {\n    console.log(\"Bokeh: ERROR: autoload.js configured with elementid '7c9236df-7a49-485b-905f-2a5e37a44355' but no matching script tag was found. \")\n    return false;\n  }\n\n  var js_urls = [\"https://cdn.pydata.org/bokeh/release/bokeh-0.12.13.min.js\", \"https://cdn.pydata.org/bokeh/release/bokeh-widgets-0.12.13.min.js\", \"https://cdn.pydata.org/bokeh/release/bokeh-tables-0.12.13.min.js\", \"https://cdn.pydata.org/bokeh/release/bokeh-gl-0.12.13.min.js\"];\n\n  var inline_js = [\n    function(Bokeh) {\n      Bokeh.set_log_level(\"info\");\n    },\n    \n    function(Bokeh) {\n      \n    },\n    function(Bokeh) {\n      console.log(\"Bokeh: injecting CSS: https://cdn.pydata.org/bokeh/release/bokeh-0.12.13.min.css\");\n      Bokeh.embed.inject_css(\"https://cdn.pydata.org/bokeh/release/bokeh-0.12.13.min.css\");\n      console.log(\"Bokeh: injecting CSS: https://cdn.pydata.org/bokeh/release/bokeh-widgets-0.12.13.min.css\");\n      Bokeh.embed.inject_css(\"https://cdn.pydata.org/bokeh/release/bokeh-widgets-0.12.13.min.css\");\n      console.log(\"Bokeh: injecting CSS: https://cdn.pydata.org/bokeh/release/bokeh-tables-0.12.13.min.css\");\n      Bokeh.embed.inject_css(\"https://cdn.pydata.org/bokeh/release/bokeh-tables-0.12.13.min.css\");\n    }\n  ];\n\n  function run_inline_js() {\n    \n    if ((root.Bokeh !== undefined) || (force === true)) {\n      for (var i = 0; i < inline_js.length; i++) {\n        inline_js[i].call(root, root.Bokeh);\n      }if (force === true) {\n        display_loaded();\n      }} else if (Date.now() < root._bokeh_timeout) {\n      setTimeout(run_inline_js, 100);\n    } else if (!root._bokeh_failed_load) {\n      console.log(\"Bokeh: BokehJS failed to load within specified timeout.\");\n      root._bokeh_failed_load = true;\n    } else if (force !== true) {\n      var cell = $(document.getElementById(\"7c9236df-7a49-485b-905f-2a5e37a44355\")).parents('.cell').data().cell;\n      cell.output_area.append_execute_result(NB_LOAD_WARNING)\n    }\n\n  }\n\n  if (root._bokeh_is_loading === 0) {\n    console.log(\"Bokeh: BokehJS loaded, going straight to plotting\");\n    run_inline_js();\n  } else {\n    load_libs(js_urls, function() {\n      console.log(\"Bokeh: BokehJS plotting callback run at\", now());\n      run_inline_js();\n    });\n  }\n}(window));"
     },
     "metadata": {},
     "output_type": "display_data"
    }
   ],
   "source": [
    "# Generic\n",
    "import os\n",
    "\n",
    "# Data Analysis packages\n",
    "import pandas as pd\n",
    "import gdal\n",
    "import numpy as np\n",
    "\n",
    "# Plotting packages\n",
    "# MATPLOTLIB\n",
    "%matplotlib inline\n",
    "import matplotlib.pylab as plt\n",
    "# BOKEH\n",
    "import bokeh.plotting as bplt\n",
    "bplt.output_notebook()\n"
   ]
  },
  {
   "cell_type": "markdown",
   "metadata": {},
   "source": [
    "## Test Data Import"
   ]
  },
  {
   "cell_type": "markdown",
   "metadata": {},
   "source": [
    "**Set the data path and filename**"
   ]
  },
  {
   "cell_type": "code",
   "execution_count": 16,
   "metadata": {},
   "outputs": [],
   "source": [
    "datapath='.'\n",
    "datefile ='S32631X402380Y1491460sS1_A_vh_mtfil.dates'\n",
    "imagefile='S32631X402380Y1491460sS1_A_vh_mtfil.vrt'\n",
    "os.chdir(os.path.join(dataroot,datapath))"
   ]
  },
  {
   "cell_type": "markdown",
   "metadata": {},
   "source": [
    "### Time series indices"
   ]
  },
  {
   "cell_type": "code",
   "execution_count": 22,
   "metadata": {},
   "outputs": [
    {
     "data": {
      "text/plain": [
       "DatetimeIndex(['2015-04-03', '2015-11-17', '2015-11-29', '2015-12-11',\n",
       "               '2015-12-23', '2016-01-04', '2016-01-28', '2016-02-09',\n",
       "               '2016-03-04', '2016-03-16', '2016-03-28', '2016-04-09',\n",
       "               '2016-04-21', '2016-05-03', '2016-05-15', '2016-05-27',\n",
       "               '2016-06-08', '2016-07-02', '2016-07-14', '2016-07-26',\n",
       "               '2016-08-07', '2016-08-19', '2016-08-31', '2016-09-12',\n",
       "               '2016-09-24', '2016-10-06', '2016-10-18', '2016-10-30',\n",
       "               '2016-11-11', '2016-11-23', '2016-12-05', '2016-12-17',\n",
       "               '2016-12-29', '2017-01-10', '2017-01-22', '2017-02-03',\n",
       "               '2017-02-15', '2017-02-27', '2017-03-11', '2017-03-23',\n",
       "               '2017-04-04', '2017-04-16', '2017-04-28', '2017-05-10',\n",
       "               '2017-05-22', '2017-06-03', '2017-06-15', '2017-06-27',\n",
       "               '2017-07-09', '2017-07-21', '2017-08-02', '2017-08-14',\n",
       "               '2017-08-26', '2017-09-07', '2017-09-19', '2017-10-13',\n",
       "               '2017-10-25', '2017-11-06', '2017-11-18', '2017-11-30'],\n",
       "              dtype='datetime64[ns]', freq=None)"
      ]
     },
     "execution_count": 22,
     "metadata": {},
     "output_type": "execute_result"
    }
   ],
   "source": [
    "# Get the date indices via pandas\n",
    "dates=open(datefile,\"r\").readlines()\n",
    "tindex=pd.DatetimeIndex(dates)\n",
    "tindex"
   ]
  },
  {
   "cell_type": "markdown",
   "metadata": {},
   "source": [
    "### Image data"
   ]
  },
  {
   "cell_type": "code",
   "execution_count": 24,
   "metadata": {},
   "outputs": [],
   "source": [
    "img=gdal.Open(imagefile)"
   ]
  },
  {
   "cell_type": "code",
   "execution_count": 26,
   "metadata": {},
   "outputs": [],
   "source": [
    "raster=img.ReadAsArray()"
   ]
  },
  {
   "cell_type": "code",
   "execution_count": 44,
   "metadata": {},
   "outputs": [
    {
     "data": {
      "text/plain": [
       "Text(0.5,1,'2015-04-03')"
      ]
     },
     "execution_count": 44,
     "metadata": {},
     "output_type": "execute_result"
    },
    {
     "data": {
      "image/png": "[encoded data removed]",
      "text/plain": [
       "<matplotlib.figure.Figure at 0x12bc9b5f8>"
      ]
     },
     "metadata": {},
     "output_type": "display_data"
    }
   ],
   "source": [
    "fig,ax = plt.subplots(figsize=(8,8))\n",
    "ax.axis('off')\n",
    "ax.imshow(raster[0],cmap='gray')\n",
    "ax.set_title(tindex[0].date())"
   ]
  },
  {
   "cell_type": "code",
   "execution_count": 46,
   "metadata": {},
   "outputs": [
    {
     "data": {
      "text/html": [
       "\n",
       "<div class=\"bk-root\">\n",
       "    <div class=\"bk-plotdiv\" id=\"363d0937-9b4d-4338-b876-6060d70b2f6b\"></div>\n",
       "</div>"
      ]
     },
     "metadata": {},
     "output_type": "display_data"
    },
    {
     "data": {
      "application/javascript": [
       "(function(root) {\n",
       "  function embed_document(root) {\n",
       "    \n",
       "  var docs_json = {\"87c741ec-15a6-4e12-822b-aa4c41b18cf8\":{\"roots\":{\"references\":[{\"attributes\":{},\"id\":\"75b9ee53-c06c-4c3c-a6be-fae3796ccbe8\",\"type\":\"SaveTool\"},{\"attributes\":{},\"id\":\"cde7dc6c-2175-4248-b0fa-4bb24dc60db4\",\"type\":\"BasicTicker\"},{\"attributes\":{\"callback\":null,\"column_names\":[\"image\"],\"data\":{\"image\":[{\"__ndarray__\":\"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\",\"dtype\":\"float64\",\"shape\":[38,44]}]}},\"id\":\"17a063fc-6957-4221-9da5-b559feec37a5\",\"type\":\"ColumnDataSource\"},{\"attributes\":{},\"id\":\"54a083f5-fbbc-4707-8e7c-9d4a51b0870c\",\"type\":\"LinearScale\"},{\"attributes\":{\"source\":{\"id\":\"17a063fc-6957-4221-9da5-b559feec37a5\",\"type\":\"ColumnDataSource\"}},\"id\":\"036e68b8-4ca7-4da4-852f-9d1cc56bc39c\",\"type\":\"CDSView\"},{\"attributes\":{\"active_drag\":\"auto\",\"active_inspect\":\"auto\",\"active_scroll\":\"auto\",\"active_tap\":\"auto\",\"tools\":[{\"id\":\"0136535d-66e6-49f8-af06-0eacdfae779c\",\"type\":\"PanTool\"},{\"id\":\"907ca8aa-8d3b-404a-bd1f-dc87d125ac62\",\"type\":\"WheelZoomTool\"},{\"id\":\"a05f56ef-b045-45b4-b247-3619896b92b8\",\"type\":\"BoxZoomTool\"},{\"id\":\"75b9ee53-c06c-4c3c-a6be-fae3796ccbe8\",\"type\":\"SaveTool\"},{\"id\":\"f0468848-68b6-42e5-ae81-d33f14f779b3\",\"type\":\"ResetTool\"},{\"id\":\"15fe064d-2073-408e-a349-7d8e7fb45cda\",\"type\":\"HelpTool\"}]},\"id\":\"68788807-4d31-4a17-a09c-8fa0169c5ad1\",\"type\":\"Toolbar\"},{\"attributes\":{},\"id\":\"f0468848-68b6-42e5-ae81-d33f14f779b3\",\"type\":\"ResetTool\"},{\"attributes\":{},\"id\":\"714347b5-24a4-4080-aa97-b4a3da5babf1\",\"type\":\"LinearScale\"},{\"attributes\":{},\"id\":\"15fe064d-2073-408e-a349-7d8e7fb45cda\",\"type\":\"HelpTool\"},{\"attributes\":{\"plot\":null,\"text\":\"\"},\"id\":\"25396331-94ef-4126-b278-f1178d92c0bc\",\"type\":\"Title\"},{\"attributes\":{\"data_source\":{\"id\":\"17a063fc-6957-4221-9da5-b559feec37a5\",\"type\":\"ColumnDataSource\"},\"glyph\":{\"id\":\"5ac922f3-9972-4c02-9ae8-aca44d5dceb3\",\"type\":\"Image\"},\"hover_glyph\":null,\"muted_glyph\":null,\"nonselection_glyph\":{\"id\":\"265e4205-d989-40a8-8cc1-c10140838e41\",\"type\":\"Image\"},\"selection_glyph\":null,\"view\":{\"id\":\"036e68b8-4ca7-4da4-852f-9d1cc56bc39c\",\"type\":\"CDSView\"}},\"id\":\"a31ef7b8-95ce-48aa-abe7-42b71b9deb13\",\"type\":\"GlyphRenderer\"},{\"attributes\":{\"color_mapper\":{\"id\":\"5efd480b-0c35-4ec3-bc96-ed34ebc4efa7\",\"type\":\"LinearColorMapper\"},\"dh\":{\"units\":\"data\",\"value\":38},\"dw\":{\"units\":\"data\",\"value\":44},\"image\":{\"field\":\"image\"},\"x\":{\"value\":0},\"y\":{\"value\":0}},\"id\":\"265e4205-d989-40a8-8cc1-c10140838e41\",\"type\":\"Image\"},{\"attributes\":{\"callback\":null},\"id\":\"1424fd69-6775-46ca-b40d-5183ee2cdf2b\",\"type\":\"DataRange1d\"},{\"attributes\":{\"bottom_units\":\"screen\",\"fill_alpha\":{\"value\":0.5},\"fill_color\":{\"value\":\"lightgrey\"},\"left_units\":\"screen\",\"level\":\"overlay\",\"line_alpha\":{\"value\":1.0},\"line_color\":{\"value\":\"black\"},\"line_dash\":[4,4],\"line_width\":{\"value\":2},\"plot\":null,\"render_mode\":\"css\",\"right_units\":\"screen\",\"top_units\":\"screen\"},\"id\":\"62b90aa5-2111-4b63-b40f-88699987cdd3\",\"type\":\"BoxAnnotation\"},{\"attributes\":{\"color_mapper\":{\"id\":\"4fa8bfea-3f97-4773-8725-996a638e31c1\",\"type\":\"LinearColorMapper\"},\"dh\":{\"units\":\"data\",\"value\":38},\"dw\":{\"units\":\"data\",\"value\":44},\"image\":{\"field\":\"image\"},\"x\":{\"value\":0},\"y\":{\"value\":0}},\"id\":\"5ac922f3-9972-4c02-9ae8-aca44d5dceb3\",\"type\":\"Image\"},{\"attributes\":{\"formatter\":{\"id\":\"9343a57e-7ab5-45a3-a07e-66ab7543e416\",\"type\":\"BasicTickFormatter\"},\"plot\":{\"id\":\"aedcd22e-23e0-4605-84f2-42affdfc473c\",\"subtype\":\"Figure\",\"type\":\"Plot\"},\"ticker\":{\"id\":\"cde7dc6c-2175-4248-b0fa-4bb24dc60db4\",\"type\":\"BasicTicker\"}},\"id\":\"5954a759-d8e2-4d4e-929f-40153443a196\",\"type\":\"LinearAxis\"},{\"attributes\":{},\"id\":\"907ca8aa-8d3b-404a-bd1f-dc87d125ac62\",\"type\":\"WheelZoomTool\"},{\"attributes\":{\"below\":[{\"id\":\"2edb743b-9af3-47a0-94aa-fe32c768e8cc\",\"type\":\"LinearAxis\"}],\"left\":[{\"id\":\"5954a759-d8e2-4d4e-929f-40153443a196\",\"type\":\"LinearAxis\"}],\"renderers\":[{\"id\":\"2edb743b-9af3-47a0-94aa-fe32c768e8cc\",\"type\":\"LinearAxis\"},{\"id\":\"27e4c045-42bb-4234-8efe-4a7fd13a8a23\",\"type\":\"Grid\"},{\"id\":\"5954a759-d8e2-4d4e-929f-40153443a196\",\"type\":\"LinearAxis\"},{\"id\":\"21f286f3-afcd-4ce6-9853-8aa8033e1908\",\"type\":\"Grid\"},{\"id\":\"62b90aa5-2111-4b63-b40f-88699987cdd3\",\"type\":\"BoxAnnotation\"},{\"id\":\"a31ef7b8-95ce-48aa-abe7-42b71b9deb13\",\"type\":\"GlyphRenderer\"}],\"title\":{\"id\":\"25396331-94ef-4126-b278-f1178d92c0bc\",\"type\":\"Title\"},\"toolbar\":{\"id\":\"68788807-4d31-4a17-a09c-8fa0169c5ad1\",\"type\":\"Toolbar\"},\"x_range\":{\"id\":\"1424fd69-6775-46ca-b40d-5183ee2cdf2b\",\"type\":\"DataRange1d\"},\"x_scale\":{\"id\":\"54a083f5-fbbc-4707-8e7c-9d4a51b0870c\",\"type\":\"LinearScale\"},\"y_range\":{\"id\":\"9cc6e9f7-d911-4c8e-8c0d-e113ceadfa7d\",\"type\":\"DataRange1d\"},\"y_scale\":{\"id\":\"714347b5-24a4-4080-aa97-b4a3da5babf1\",\"type\":\"LinearScale\"}},\"id\":\"aedcd22e-23e0-4605-84f2-42affdfc473c\",\"subtype\":\"Figure\",\"type\":\"Plot\"},{\"attributes\":{\"callback\":null},\"id\":\"9cc6e9f7-d911-4c8e-8c0d-e113ceadfa7d\",\"type\":\"DataRange1d\"},{\"attributes\":{},\"id\":\"79458d21-adbd-484b-8a82-b1e8cb0fb4a9\",\"type\":\"BasicTickFormatter\"},{\"attributes\":{\"plot\":{\"id\":\"aedcd22e-23e0-4605-84f2-42affdfc473c\",\"subtype\":\"Figure\",\"type\":\"Plot\"},\"ticker\":{\"id\":\"c6b4a9fe-8c00-4191-8277-d92cfe886511\",\"type\":\"BasicTicker\"}},\"id\":\"27e4c045-42bb-4234-8efe-4a7fd13a8a23\",\"type\":\"Grid\"},{\"attributes\":{},\"id\":\"0136535d-66e6-49f8-af06-0eacdfae779c\",\"type\":\"PanTool\"},{\"attributes\":{},\"id\":\"c6b4a9fe-8c00-4191-8277-d92cfe886511\",\"type\":\"BasicTicker\"},{\"attributes\":{\"formatter\":{\"id\":\"79458d21-adbd-484b-8a82-b1e8cb0fb4a9\",\"type\":\"BasicTickFormatter\"},\"plot\":{\"id\":\"aedcd22e-23e0-4605-84f2-42affdfc473c\",\"subtype\":\"Figure\",\"type\":\"Plot\"},\"ticker\":{\"id\":\"c6b4a9fe-8c00-4191-8277-d92cfe886511\",\"type\":\"BasicTicker\"}},\"id\":\"2edb743b-9af3-47a0-94aa-fe32c768e8cc\",\"type\":\"LinearAxis\"},{\"attributes\":{},\"id\":\"9343a57e-7ab5-45a3-a07e-66ab7543e416\",\"type\":\"BasicTickFormatter\"},{\"attributes\":{\"palette\":[\"#000000\",\"#252525\",\"#525252\",\"#737373\",\"#969696\",\"#bdbdbd\",\"#d9d9d9\",\"#f0f0f0\",\"#ffffff\"]},\"id\":\"5efd480b-0c35-4ec3-bc96-ed34ebc4efa7\",\"type\":\"LinearColorMapper\"},{\"attributes\":{\"palette\":[\"#000000\",\"#252525\",\"#525252\",\"#737373\",\"#969696\",\"#bdbdbd\",\"#d9d9d9\",\"#f0f0f0\",\"#ffffff\"]},\"id\":\"4fa8bfea-3f97-4773-8725-996a638e31c1\",\"type\":\"LinearColorMapper\"},{\"attributes\":{\"overlay\":{\"id\":\"62b90aa5-2111-4b63-b40f-88699987cdd3\",\"type\":\"BoxAnnotation\"}},\"id\":\"a05f56ef-b045-45b4-b247-3619896b92b8\",\"type\":\"BoxZoomTool\"},{\"attributes\":{\"dimension\":1,\"plot\":{\"id\":\"aedcd22e-23e0-4605-84f2-42affdfc473c\",\"subtype\":\"Figure\",\"type\":\"Plot\"},\"ticker\":{\"id\":\"cde7dc6c-2175-4248-b0fa-4bb24dc60db4\",\"type\":\"BasicTicker\"}},\"id\":\"21f286f3-afcd-4ce6-9853-8aa8033e1908\",\"type\":\"Grid\"}],\"root_ids\":[\"aedcd22e-23e0-4605-84f2-42affdfc473c\"]},\"title\":\"Bokeh Application\",\"version\":\"0.12.13\"}};\n",
       "  var render_items = [{\"docid\":\"87c741ec-15a6-4e12-822b-aa4c41b18cf8\",\"elementid\":\"363d0937-9b4d-4338-b876-6060d70b2f6b\",\"modelid\":\"aedcd22e-23e0-4605-84f2-42affdfc473c\"}];\n",
       "  root.Bokeh.embed.embed_items_notebook(docs_json, render_items);\n",
       "\n",
       "  }\n",
       "  if (root.Bokeh !== undefined) {\n",
       "    embed_document(root);\n",
       "  } else {\n",
       "    var attempts = 0;\n",
       "    var timer = setInterval(function(root) {\n",
       "      if (root.Bokeh !== undefined) {\n",
       "        embed_document(root);\n",
       "        clearInterval(timer);\n",
       "      }\n",
       "      attempts++;\n",
       "      if (attempts > 100) {\n",
       "        console.log(\"Bokeh: ERROR: Unable to run BokehJS code because BokehJS library is missing\")\n",
       "        clearInterval(timer);\n",
       "      }\n",
       "    }, 10, root)\n",
       "  }\n",
       "})(window);"
      ],
      "application/vnd.bokehjs_exec.v0+json": ""
     },
     "metadata": {
      "application/vnd.bokehjs_exec.v0+json": {
       "id": "aedcd22e-23e0-4605-84f2-42affdfc473c"
      }
     },
     "output_type": "display_data"
    }
   ],
   "source": [
    "fig = bplt.figure()\n",
    "fig.image([raster[0]/raster[0].max()],0,0,img.RasterXSize,img.RasterYSize)\n",
    "bplt.show(fig)"
   ]
  }
 ],
 "metadata": {
  "kernelspec": {
   "display_name": "Python [conda env:ebd]",
   "language": "python",
   "name": "conda-env-ebd-py"
  },
  "language_info": {
   "codemirror_mode": {
    "name": "ipython",
    "version": 3
   },
   "file_extension": ".py",
   "mimetype": "text/x-python",
   "name": "python",
   "nbconvert_exporter": "python",
   "pygments_lexer": "ipython3",
   "version": "3.6.4"
  }
 },
 "nbformat": 4,
 "nbformat_minor": 2
}
