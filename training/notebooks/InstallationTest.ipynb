{
 "cells": [
  {
   "cell_type": "markdown",
   "metadata": {},
   "source": [
    "# INSTALLATION TEST"
   ]
  },
  {
   "cell_type": "code",
   "execution_count": null,
   "metadata": {},
   "outputs": [],
   "source": [
    "# CHANGE TO THE PATH ON YOUR SYSTEM WHERE THE **test data** folder resides\n",
    "datapath=\"/mnt/s/github/openSAR/training/data/test\""
   ]
  },
  {
   "cell_type": "markdown",
   "metadata": {},
   "source": [
    "See if you have a correct installation by selecting\n",
    "\n",
    "    > Kernel > Change Kernel > Python[conda env:ebd]\n",
    "    (other Kernels might be ok too)\n",
    "    \n",
    "    > Cell > Run All\n",
    "    \n",
    "    \n",
    "If you don't see any errors and see an image at the bottom, everything is successfully installed. "
   ]
  },
  {
   "cell_type": "markdown",
   "metadata": {},
   "source": [
    "## Python package import"
   ]
  },
  {
   "cell_type": "code",
   "execution_count": null,
   "metadata": {},
   "outputs": [],
   "source": [
    "# Generic\n",
    "import os\n",
    "\n",
    "# Data Analysis packages\n",
    "import pandas as pd\n",
    "import gdal\n",
    "import numpy as np\n",
    "import skimage\n",
    "\n",
    "# Plotting packages\n",
    "# MATPLOTLIB\n",
    "%matplotlib inline\n",
    "import matplotlib.pylab as plt\n",
    "\n",
    "# BOKEH\n",
    "import bokeh.plotting as bplt\n",
    "bplt.output_notebook()"
   ]
  },
  {
   "cell_type": "markdown",
   "metadata": {},
   "source": [
    "## Test Data Import"
   ]
  },
  {
   "cell_type": "markdown",
   "metadata": {},
   "source": [
    "**Set the data path and filename**"
   ]
  },
  {
   "cell_type": "code",
   "execution_count": null,
   "metadata": {},
   "outputs": [],
   "source": [
    "datefile ='S32631X402380Y1491460sS1_A_vh_mtfil.dates'\n",
    "imagefile='S32631X402380Y1491460sS1_A_vh_mtfil.vrt'\n",
    "os.chdir(datapath)"
   ]
  },
  {
   "cell_type": "markdown",
   "metadata": {},
   "source": [
    "### Time series indices"
   ]
  },
  {
   "cell_type": "code",
   "execution_count": null,
   "metadata": {},
   "outputs": [],
   "source": [
    "# Get the date indices via pandas\n",
    "dates=open(datefile,\"r\").readlines()\n",
    "tindex=pd.DatetimeIndex(dates)\n",
    "tindex"
   ]
  },
  {
   "cell_type": "markdown",
   "metadata": {},
   "source": [
    "### Image data"
   ]
  },
  {
   "cell_type": "code",
   "execution_count": null,
   "metadata": {},
   "outputs": [],
   "source": [
    "img=gdal.Open(imagefile)\n",
    "rasterDN=img.ReadAsArray()\n",
    "rasterdB=20.*np.log10(rasterDN)-83\n",
    "ts=pd.Series(rasterdB[:,20,5],index=tindex)\n",
    "ts.index.name='Date'"
   ]
  },
  {
   "cell_type": "code",
   "execution_count": null,
   "metadata": {},
   "outputs": [],
   "source": [
    "## Matplotlib plot"
   ]
  },
  {
   "cell_type": "code",
   "execution_count": null,
   "metadata": {},
   "outputs": [],
   "source": [
    "ts.plot()"
   ]
  },
  {
   "cell_type": "code",
   "execution_count": null,
   "metadata": {},
   "outputs": [],
   "source": [
    "## Bokeh Plot - Interactive"
   ]
  },
  {
   "cell_type": "code",
   "execution_count": null,
   "metadata": {},
   "outputs": [],
   "source": [
    "source=pd.DataFrame(ts)\n",
    "source.columns=['gamma0']\n",
    "p = bplt.figure(x_axis_type=\"datetime\", plot_width=800, plot_height=350)\n",
    "p.line('Date','gamma0',source=source)\n",
    "bplt.show(p)"
   ]
  },
  {
   "cell_type": "code",
   "execution_count": null,
   "metadata": {},
   "outputs": [],
   "source": [
    "## Matplotlib Image "
   ]
  },
  {
   "cell_type": "code",
   "execution_count": null,
   "metadata": {},
   "outputs": [],
   "source": [
    "fig,ax = plt.subplots(figsize=(8,8))\n",
    "ax.axis('off')\n",
    "ax.imshow(raster[0],cmap='gray')\n",
    "ax.set_title(tindex[0].date())"
   ]
  }
 ],
 "metadata": {
  "kernelspec": {
   "display_name": "Python [conda env:ebd]",
   "language": "python",
   "name": "conda-env-ebd-py"
  },
  "language_info": {
   "codemirror_mode": {
    "name": "ipython",
    "version": 3
   },
   "file_extension": ".py",
   "mimetype": "text/x-python",
   "name": "python",
   "nbconvert_exporter": "python",
   "pygments_lexer": "ipython3",
   "version": "3.6.4"
  }
 },
 "nbformat": 4,
 "nbformat_minor": 2
}
